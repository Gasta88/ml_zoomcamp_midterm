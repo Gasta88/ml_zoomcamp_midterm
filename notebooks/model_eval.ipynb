{
 "cells": [
  {
   "cell_type": "code",
   "execution_count": 17,
   "metadata": {},
   "outputs": [],
   "source": [
    "import pandas as pd\n",
    "import numpy as np\n",
    "from sklearn.model_selection import train_test_split\n",
    "import matplotlib.pyplot as plt\n",
    "from sklearn.metrics import mean_squared_error, r2_score\n",
    "from sklearn.model_selection import KFold\n",
    "from sklearn.feature_extraction import DictVectorizer\n",
    "\n",
    "\n",
    "%matplotlib inline"
   ]
  },
  {
   "cell_type": "code",
   "execution_count": 2,
   "metadata": {},
   "outputs": [
    {
     "data": {
      "text/html": [
       "<div>\n",
       "<style scoped>\n",
       "    .dataframe tbody tr th:only-of-type {\n",
       "        vertical-align: middle;\n",
       "    }\n",
       "\n",
       "    .dataframe tbody tr th {\n",
       "        vertical-align: top;\n",
       "    }\n",
       "\n",
       "    .dataframe thead th {\n",
       "        text-align: right;\n",
       "    }\n",
       "</style>\n",
       "<table border=\"1\" class=\"dataframe\">\n",
       "  <thead>\n",
       "    <tr style=\"text-align: right;\">\n",
       "      <th></th>\n",
       "      <th>userid</th>\n",
       "      <th>amount</th>\n",
       "      <th>usercurrencyamount</th>\n",
       "      <th>usercurrencycode</th>\n",
       "      <th>provider</th>\n",
       "      <th>countrycode</th>\n",
       "      <th>market</th>\n",
       "      <th>coins</th>\n",
       "    </tr>\n",
       "  </thead>\n",
       "  <tbody>\n",
       "    <tr>\n",
       "      <th>0</th>\n",
       "      <td>049d2b63-a415-4a72-a9de-ce4ab621945d</td>\n",
       "      <td>2.53</td>\n",
       "      <td>2.01</td>\n",
       "      <td>chf</td>\n",
       "      <td>paypal</td>\n",
       "      <td>ch</td>\n",
       "      <td>gb</td>\n",
       "      <td>332</td>\n",
       "    </tr>\n",
       "    <tr>\n",
       "      <th>1</th>\n",
       "      <td>c14dfe23-2763-4ed4-8970-ef9da9d294ad</td>\n",
       "      <td>1.28</td>\n",
       "      <td>1.10</td>\n",
       "      <td>chf</td>\n",
       "      <td>paypal</td>\n",
       "      <td>ch</td>\n",
       "      <td>gb</td>\n",
       "      <td>7988</td>\n",
       "    </tr>\n",
       "    <tr>\n",
       "      <th>2</th>\n",
       "      <td>b6779fec-96f6-4386-a60c-70b64a3b40e6</td>\n",
       "      <td>2.60</td>\n",
       "      <td>2.34</td>\n",
       "      <td>eur</td>\n",
       "      <td>paypal</td>\n",
       "      <td>at</td>\n",
       "      <td>gb</td>\n",
       "      <td>538</td>\n",
       "    </tr>\n",
       "    <tr>\n",
       "      <th>3</th>\n",
       "      <td>ffb941d3-6ea6-4635-afe9-49d7af1349a9</td>\n",
       "      <td>3.83</td>\n",
       "      <td>5.66</td>\n",
       "      <td>aud</td>\n",
       "      <td>paypal</td>\n",
       "      <td>nz</td>\n",
       "      <td>au</td>\n",
       "      <td>1685</td>\n",
       "    </tr>\n",
       "    <tr>\n",
       "      <th>4</th>\n",
       "      <td>be50b2d4-4782-4258-a4fa-ecf38a100219</td>\n",
       "      <td>1.24</td>\n",
       "      <td>12.83</td>\n",
       "      <td>nok</td>\n",
       "      <td>paypal</td>\n",
       "      <td>no</td>\n",
       "      <td>gb</td>\n",
       "      <td>1516</td>\n",
       "    </tr>\n",
       "  </tbody>\n",
       "</table>\n",
       "</div>"
      ],
      "text/plain": [
       "                                 userid  amount  usercurrencyamount  \\\n",
       "0  049d2b63-a415-4a72-a9de-ce4ab621945d    2.53                2.01   \n",
       "1  c14dfe23-2763-4ed4-8970-ef9da9d294ad    1.28                1.10   \n",
       "2  b6779fec-96f6-4386-a60c-70b64a3b40e6    2.60                2.34   \n",
       "3  ffb941d3-6ea6-4635-afe9-49d7af1349a9    3.83                5.66   \n",
       "4  be50b2d4-4782-4258-a4fa-ecf38a100219    1.24               12.83   \n",
       "\n",
       "  usercurrencycode provider countrycode market  coins  \n",
       "0              chf   paypal          ch     gb    332  \n",
       "1              chf   paypal          ch     gb   7988  \n",
       "2              eur   paypal          at     gb    538  \n",
       "3              aud   paypal          nz     au   1685  \n",
       "4              nok   paypal          no     gb   1516  "
      ]
     },
     "execution_count": 2,
     "metadata": {},
     "output_type": "execute_result"
    }
   ],
   "source": [
    "df = pd.read_csv(\"../data/clean_data.csv\")\n",
    "\n",
    "df.head()"
   ]
  },
  {
   "cell_type": "code",
   "execution_count": 5,
   "metadata": {},
   "outputs": [],
   "source": [
    "df_full_train, df_test = train_test_split(df, test_size=0.2,random_state=1)\n",
    "df_train, df_val = train_test_split(df_full_train, test_size=0.25,random_state=1)\n",
    "\n",
    "df_train.reset_index(drop=True)\n",
    "df_val.reset_index(drop=True)\n",
    "df_test.reset_index(drop=True)\n",
    "\n",
    "y_train = df_train[\"amount\"].values\n",
    "y_val = df_val[\"amount\"].values\n",
    "y_test = df_test[\"amount\"].values\n",
    "\n",
    "del df_train[\"amount\"]\n",
    "del df_val[\"amount\"]\n",
    "del df_test[\"amount\"]\n",
    "\n",
    "cat = [  \"provider\", \"countrycode\", \"market\"]\n",
    "num = [\"usercurrencyamount\", \"coins\"]   "
   ]
  },
  {
   "cell_type": "code",
   "execution_count": 6,
   "metadata": {},
   "outputs": [],
   "source": [
    "dv = DictVectorizer(sparse=False)\n",
    "\n",
    "X_train = dv.fit_transform(df_train[cat + num].to_dict(orient=\"records\"))\n",
    "X_val = dv.transform(df_val[cat + num].to_dict(orient=\"records\"))"
   ]
  },
  {
   "cell_type": "code",
   "execution_count": 18,
   "metadata": {},
   "outputs": [
    {
     "name": "stdout",
     "output_type": "stream",
     "text": [
      "Accuracy: 8.814303884918436\n",
      "R^2: 0.15343529487429897\n"
     ]
    }
   ],
   "source": [
    "from sklearn.linear_model import LinearRegression\n",
    "\n",
    "lr = LinearRegression()\n",
    "lr.fit(X_train,y_train)\n",
    "y_pred = lr.predict(X_val)\n",
    "print(f\"Accuracy: {mean_squared_error(y_val,y_pred)}\")\n",
    "print(f\"R^2: {r2_score(y_val,y_pred)}\")"
   ]
  },
  {
   "cell_type": "code",
   "execution_count": 19,
   "metadata": {},
   "outputs": [
    {
     "name": "stderr",
     "output_type": "stream",
     "text": [
      "d:\\git_repo\\ml_zoomcamp_midterm\\venv\\Lib\\site-packages\\sklearn\\linear_model\\_ridge.py:200: LinAlgWarning: Ill-conditioned matrix (rcond=5.85629e-22): result may not be accurate.\n",
      "  return linalg.solve(A, Xy, assume_a=\"pos\", overwrite_a=True).T\n",
      "d:\\git_repo\\ml_zoomcamp_midterm\\venv\\Lib\\site-packages\\sklearn\\linear_model\\_ridge.py:200: LinAlgWarning: Ill-conditioned matrix (rcond=5.85009e-21): result may not be accurate.\n",
      "  return linalg.solve(A, Xy, assume_a=\"pos\", overwrite_a=True).T\n",
      "d:\\git_repo\\ml_zoomcamp_midterm\\venv\\Lib\\site-packages\\sklearn\\linear_model\\_ridge.py:200: LinAlgWarning: Ill-conditioned matrix (rcond=5.79026e-20): result may not be accurate.\n",
      "  return linalg.solve(A, Xy, assume_a=\"pos\", overwrite_a=True).T\n",
      "d:\\git_repo\\ml_zoomcamp_midterm\\venv\\Lib\\site-packages\\sklearn\\linear_model\\_ridge.py:200: LinAlgWarning: Ill-conditioned matrix (rcond=5.32908e-19): result may not be accurate.\n",
      "  return linalg.solve(A, Xy, assume_a=\"pos\", overwrite_a=True).T\n"
     ]
    },
    {
     "data": {
      "text/html": [
       "<div>\n",
       "<style scoped>\n",
       "    .dataframe tbody tr th:only-of-type {\n",
       "        vertical-align: middle;\n",
       "    }\n",
       "\n",
       "    .dataframe tbody tr th {\n",
       "        vertical-align: top;\n",
       "    }\n",
       "\n",
       "    .dataframe thead th {\n",
       "        text-align: right;\n",
       "    }\n",
       "</style>\n",
       "<table border=\"1\" class=\"dataframe\">\n",
       "  <thead>\n",
       "    <tr style=\"text-align: right;\">\n",
       "      <th></th>\n",
       "      <th>solver</th>\n",
       "      <th>alpha</th>\n",
       "      <th>score</th>\n",
       "      <th>r2</th>\n",
       "    </tr>\n",
       "  </thead>\n",
       "  <tbody>\n",
       "    <tr>\n",
       "      <th>3</th>\n",
       "      <td>svd</td>\n",
       "      <td>1.00</td>\n",
       "      <td>8.814192</td>\n",
       "      <td>0.153446</td>\n",
       "    </tr>\n",
       "    <tr>\n",
       "      <th>8</th>\n",
       "      <td>cholesky</td>\n",
       "      <td>1.00</td>\n",
       "      <td>8.814192</td>\n",
       "      <td>0.153446</td>\n",
       "    </tr>\n",
       "    <tr>\n",
       "      <th>2</th>\n",
       "      <td>svd</td>\n",
       "      <td>0.10</td>\n",
       "      <td>8.814288</td>\n",
       "      <td>0.153437</td>\n",
       "    </tr>\n",
       "    <tr>\n",
       "      <th>7</th>\n",
       "      <td>cholesky</td>\n",
       "      <td>0.10</td>\n",
       "      <td>8.814288</td>\n",
       "      <td>0.153437</td>\n",
       "    </tr>\n",
       "    <tr>\n",
       "      <th>1</th>\n",
       "      <td>svd</td>\n",
       "      <td>0.01</td>\n",
       "      <td>8.814302</td>\n",
       "      <td>0.153435</td>\n",
       "    </tr>\n",
       "    <tr>\n",
       "      <th>6</th>\n",
       "      <td>cholesky</td>\n",
       "      <td>0.01</td>\n",
       "      <td>8.814302</td>\n",
       "      <td>0.153435</td>\n",
       "    </tr>\n",
       "    <tr>\n",
       "      <th>0</th>\n",
       "      <td>svd</td>\n",
       "      <td>0.00</td>\n",
       "      <td>8.814304</td>\n",
       "      <td>0.153435</td>\n",
       "    </tr>\n",
       "    <tr>\n",
       "      <th>5</th>\n",
       "      <td>cholesky</td>\n",
       "      <td>0.00</td>\n",
       "      <td>8.814304</td>\n",
       "      <td>0.153435</td>\n",
       "    </tr>\n",
       "    <tr>\n",
       "      <th>4</th>\n",
       "      <td>svd</td>\n",
       "      <td>10.00</td>\n",
       "      <td>8.816059</td>\n",
       "      <td>0.153267</td>\n",
       "    </tr>\n",
       "    <tr>\n",
       "      <th>9</th>\n",
       "      <td>cholesky</td>\n",
       "      <td>10.00</td>\n",
       "      <td>8.816059</td>\n",
       "      <td>0.153267</td>\n",
       "    </tr>\n",
       "  </tbody>\n",
       "</table>\n",
       "</div>"
      ],
      "text/plain": [
       "     solver  alpha     score        r2\n",
       "3       svd   1.00  8.814192  0.153446\n",
       "8  cholesky   1.00  8.814192  0.153446\n",
       "2       svd   0.10  8.814288  0.153437\n",
       "7  cholesky   0.10  8.814288  0.153437\n",
       "1       svd   0.01  8.814302  0.153435\n",
       "6  cholesky   0.01  8.814302  0.153435\n",
       "0       svd   0.00  8.814304  0.153435\n",
       "5  cholesky   0.00  8.814304  0.153435\n",
       "4       svd  10.00  8.816059  0.153267\n",
       "9  cholesky  10.00  8.816059  0.153267"
      ]
     },
     "execution_count": 19,
     "metadata": {},
     "output_type": "execute_result"
    }
   ],
   "source": [
    "from sklearn.linear_model import Ridge\n",
    "\n",
    "alphas = [0, 0.01, 0.1, 1, 10]\n",
    "solvers = [\"svd\", \"cholesky\", \"lsqr\", \"sparse_cg\", \"sag\", \"saga\"]\n",
    "\n",
    "scores = []\n",
    "for s in solvers:\n",
    "    for a in alphas:\n",
    "        lr = Ridge(alpha=a, solver=s)\n",
    "        lr.fit(X_train,y_train)\n",
    "        y_pred = lr.predict(X_val)\n",
    "        scores.append((s,a,mean_squared_error(y_val,y_pred),r2_score(y_val,y_pred)))\n",
    "df_scores = pd.DataFrame(scores,columns=[\"solver\",\"alpha\",\"score\",\"r2\"])\n",
    "df_scores.sort_values(by=[\"score\",\"r2\"], ascending=True).head(10)"
   ]
  },
  {
   "cell_type": "code",
   "execution_count": 22,
   "metadata": {},
   "outputs": [
    {
     "data": {
      "text/plain": [
       "<matplotlib.legend.Legend at 0x1ffedfa8090>"
      ]
     },
     "execution_count": 22,
     "metadata": {},
     "output_type": "execute_result"
    },
    {
     "data": {
      "image/png": "[encoded data removed]",
      "text/plain": [
       "<Figure size 640x480 with 1 Axes>"
      ]
     },
     "metadata": {},
     "output_type": "display_data"
    }
   ],
   "source": [
    "for s in solvers:\n",
    "    if s in [\"svd\", \"cholesky\", \"lsqr\"]:\n",
    "        plt.plot(df_scores[df_scores[\"solver\"] == s][\"alpha\"],df_scores[df_scores[\"solver\"] == s][\"score\"], label=s)\n",
    "\n",
    "plt.legend()\n",
    "\n",
    "# Best combo for Ridge seems solver=\"svd\", alpha=1.0"
   ]
  },
  {
   "cell_type": "code",
   "execution_count": 26,
   "metadata": {},
   "outputs": [
    {
     "data": {
      "text/html": [
       "<div>\n",
       "<style scoped>\n",
       "    .dataframe tbody tr th:only-of-type {\n",
       "        vertical-align: middle;\n",
       "    }\n",
       "\n",
       "    .dataframe tbody tr th {\n",
       "        vertical-align: top;\n",
       "    }\n",
       "\n",
       "    .dataframe thead th {\n",
       "        text-align: right;\n",
       "    }\n",
       "</style>\n",
       "<table border=\"1\" class=\"dataframe\">\n",
       "  <thead>\n",
       "    <tr style=\"text-align: right;\">\n",
       "      <th></th>\n",
       "      <th>max_depth</th>\n",
       "      <th>min_samples_leaf</th>\n",
       "      <th>score</th>\n",
       "      <th>r2</th>\n",
       "    </tr>\n",
       "  </thead>\n",
       "  <tbody>\n",
       "    <tr>\n",
       "      <th>7</th>\n",
       "      <td>NaN</td>\n",
       "      <td>1</td>\n",
       "      <td>0.020151</td>\n",
       "      <td>0.998065</td>\n",
       "    </tr>\n",
       "    <tr>\n",
       "      <th>15</th>\n",
       "      <td>NaN</td>\n",
       "      <td>2</td>\n",
       "      <td>0.033286</td>\n",
       "      <td>0.996803</td>\n",
       "    </tr>\n",
       "    <tr>\n",
       "      <th>23</th>\n",
       "      <td>NaN</td>\n",
       "      <td>5</td>\n",
       "      <td>0.106647</td>\n",
       "      <td>0.989757</td>\n",
       "    </tr>\n",
       "    <tr>\n",
       "      <th>31</th>\n",
       "      <td>NaN</td>\n",
       "      <td>10</td>\n",
       "      <td>0.307538</td>\n",
       "      <td>0.970463</td>\n",
       "    </tr>\n",
       "    <tr>\n",
       "      <th>6</th>\n",
       "      <td>7.0</td>\n",
       "      <td>1</td>\n",
       "      <td>0.339468</td>\n",
       "      <td>0.967396</td>\n",
       "    </tr>\n",
       "    <tr>\n",
       "      <th>39</th>\n",
       "      <td>NaN</td>\n",
       "      <td>20</td>\n",
       "      <td>0.410237</td>\n",
       "      <td>0.960599</td>\n",
       "    </tr>\n",
       "    <tr>\n",
       "      <th>14</th>\n",
       "      <td>7.0</td>\n",
       "      <td>2</td>\n",
       "      <td>0.411864</td>\n",
       "      <td>0.960443</td>\n",
       "    </tr>\n",
       "    <tr>\n",
       "      <th>22</th>\n",
       "      <td>7.0</td>\n",
       "      <td>5</td>\n",
       "      <td>0.418417</td>\n",
       "      <td>0.959813</td>\n",
       "    </tr>\n",
       "    <tr>\n",
       "      <th>30</th>\n",
       "      <td>7.0</td>\n",
       "      <td>10</td>\n",
       "      <td>0.490815</td>\n",
       "      <td>0.952860</td>\n",
       "    </tr>\n",
       "    <tr>\n",
       "      <th>5</th>\n",
       "      <td>6.0</td>\n",
       "      <td>1</td>\n",
       "      <td>0.505574</td>\n",
       "      <td>0.951442</td>\n",
       "    </tr>\n",
       "  </tbody>\n",
       "</table>\n",
       "</div>"
      ],
      "text/plain": [
       "    max_depth  min_samples_leaf     score        r2\n",
       "7         NaN                 1  0.020151  0.998065\n",
       "15        NaN                 2  0.033286  0.996803\n",
       "23        NaN                 5  0.106647  0.989757\n",
       "31        NaN                10  0.307538  0.970463\n",
       "6         7.0                 1  0.339468  0.967396\n",
       "39        NaN                20  0.410237  0.960599\n",
       "14        7.0                 2  0.411864  0.960443\n",
       "22        7.0                 5  0.418417  0.959813\n",
       "30        7.0                10  0.490815  0.952860\n",
       "5         6.0                 1  0.505574  0.951442"
      ]
     },
     "execution_count": 26,
     "metadata": {},
     "output_type": "execute_result"
    }
   ],
   "source": [
    "from sklearn.tree import DecisionTreeRegressor\n",
    "\n",
    "max_depths = [1, 2, 3, 4, 5, 6, 7, None]\n",
    "min_sample_leafs = [1,2, 5, 10,20]\n",
    "\n",
    "scores = []\n",
    "for s in min_sample_leafs:\n",
    "    for d in [1, 2, 3, 4, 5, 6, 7, None]:\n",
    "        dt = DecisionTreeRegressor(max_depth=d, random_state=1, min_samples_leaf=s)\n",
    "        dt.fit(X_train, y_train)\n",
    "        y_pred = dt.predict(X_val)\n",
    "        scores.append((d,s,mean_squared_error(y_val,y_pred),r2_score(y_val,y_pred)))\n",
    "df_scores = pd.DataFrame(scores,columns=[\"max_depth\",\"min_samples_leaf\",\"score\",\"r2\"])\n",
    "df_scores.sort_values(by=[\"score\",\"r2\"], ascending=True).head(10)\n",
    "\n",
    "# Best combo for DecisionTreeRegressor seems max_depth=7, min_samples_leaf=1\n",
    "# Leaving max_depth=None will cause overfitting"
   ]
  },
  {
   "cell_type": "code",
   "execution_count": 28,
   "metadata": {},
   "outputs": [
    {
     "data": {
      "text/html": [
       "<div>\n",
       "<style scoped>\n",
       "    .dataframe tbody tr th:only-of-type {\n",
       "        vertical-align: middle;\n",
       "    }\n",
       "\n",
       "    .dataframe tbody tr th {\n",
       "        vertical-align: top;\n",
       "    }\n",
       "\n",
       "    .dataframe thead th {\n",
       "        text-align: right;\n",
       "    }\n",
       "</style>\n",
       "<table border=\"1\" class=\"dataframe\">\n",
       "  <thead>\n",
       "    <tr style=\"text-align: right;\">\n",
       "      <th></th>\n",
       "      <th>n_estimators</th>\n",
       "      <th>score</th>\n",
       "      <th>r2</th>\n",
       "    </tr>\n",
       "  </thead>\n",
       "  <tbody>\n",
       "    <tr>\n",
       "      <th>17</th>\n",
       "      <td>180</td>\n",
       "      <td>0.025647</td>\n",
       "      <td>0.997537</td>\n",
       "    </tr>\n",
       "    <tr>\n",
       "      <th>13</th>\n",
       "      <td>140</td>\n",
       "      <td>0.025667</td>\n",
       "      <td>0.997535</td>\n",
       "    </tr>\n",
       "    <tr>\n",
       "      <th>10</th>\n",
       "      <td>110</td>\n",
       "      <td>0.025733</td>\n",
       "      <td>0.997528</td>\n",
       "    </tr>\n",
       "    <tr>\n",
       "      <th>16</th>\n",
       "      <td>170</td>\n",
       "      <td>0.025933</td>\n",
       "      <td>0.997509</td>\n",
       "    </tr>\n",
       "    <tr>\n",
       "      <th>18</th>\n",
       "      <td>190</td>\n",
       "      <td>0.025940</td>\n",
       "      <td>0.997509</td>\n",
       "    </tr>\n",
       "    <tr>\n",
       "      <th>12</th>\n",
       "      <td>130</td>\n",
       "      <td>0.025951</td>\n",
       "      <td>0.997508</td>\n",
       "    </tr>\n",
       "    <tr>\n",
       "      <th>14</th>\n",
       "      <td>150</td>\n",
       "      <td>0.026244</td>\n",
       "      <td>0.997479</td>\n",
       "    </tr>\n",
       "    <tr>\n",
       "      <th>11</th>\n",
       "      <td>120</td>\n",
       "      <td>0.026675</td>\n",
       "      <td>0.997438</td>\n",
       "    </tr>\n",
       "    <tr>\n",
       "      <th>19</th>\n",
       "      <td>200</td>\n",
       "      <td>0.026775</td>\n",
       "      <td>0.997428</td>\n",
       "    </tr>\n",
       "    <tr>\n",
       "      <th>15</th>\n",
       "      <td>160</td>\n",
       "      <td>0.026872</td>\n",
       "      <td>0.997419</td>\n",
       "    </tr>\n",
       "  </tbody>\n",
       "</table>\n",
       "</div>"
      ],
      "text/plain": [
       "    n_estimators     score        r2\n",
       "17           180  0.025647  0.997537\n",
       "13           140  0.025667  0.997535\n",
       "10           110  0.025733  0.997528\n",
       "16           170  0.025933  0.997509\n",
       "18           190  0.025940  0.997509\n",
       "12           130  0.025951  0.997508\n",
       "14           150  0.026244  0.997479\n",
       "11           120  0.026675  0.997438\n",
       "19           200  0.026775  0.997428\n",
       "15           160  0.026872  0.997419"
      ]
     },
     "execution_count": 28,
     "metadata": {},
     "output_type": "execute_result"
    }
   ],
   "source": [
    "from sklearn.ensemble import RandomForestRegressor\n",
    "\n",
    "scores = []\n",
    "for n in range(10, 201, 10):\n",
    "    rf = RandomForestRegressor(n_estimators=n, random_state=1, n_jobs=-1)\n",
    "    rf.fit(X_train, y_train)\n",
    "    y_pred = rf.predict(X_val)\n",
    "    scores.append((n, mean_squared_error(y_val, y_pred), r2_score(y_val, y_pred)))\n",
    "df_scores = pd.DataFrame(scores, columns=['n_estimators', 'score', 'r2'])\n",
    "df_scores.sort_values(by=[\"score\",\"r2\"], ascending=True).head(10)"
   ]
  },
  {
   "cell_type": "code",
   "execution_count": 29,
   "metadata": {},
   "outputs": [
    {
     "data": {
      "text/plain": [
       "[<matplotlib.lines.Line2D at 0x1ffed3ca250>]"
      ]
     },
     "execution_count": 29,
     "metadata": {},
     "output_type": "execute_result"
    },
    {
     "data": {
      "image/png": "[encoded data removed]",
      "text/plain": [
       "<Figure size 640x480 with 1 Axes>"
      ]
     },
     "metadata": {},
     "output_type": "display_data"
    }
   ],
   "source": [
    "plt.plot(df_scores[\"n_estimators\"],df_scores[\"score\"])\n",
    "\n",
    "# Best performance starts around n_estimators=110"
   ]
  },
  {
   "cell_type": "code",
   "execution_count": 32,
   "metadata": {},
   "outputs": [
    {
     "data": {
      "text/html": [
       "<div>\n",
       "<style scoped>\n",
       "    .dataframe tbody tr th:only-of-type {\n",
       "        vertical-align: middle;\n",
       "    }\n",
       "\n",
       "    .dataframe tbody tr th {\n",
       "        vertical-align: top;\n",
       "    }\n",
       "\n",
       "    .dataframe thead th {\n",
       "        text-align: right;\n",
       "    }\n",
       "</style>\n",
       "<table border=\"1\" class=\"dataframe\">\n",
       "  <thead>\n",
       "    <tr style=\"text-align: right;\">\n",
       "      <th></th>\n",
       "      <th>n_estimators</th>\n",
       "      <th>max_depth</th>\n",
       "      <th>score</th>\n",
       "      <th>r2</th>\n",
       "    </tr>\n",
       "  </thead>\n",
       "  <tbody>\n",
       "    <tr>\n",
       "      <th>60</th>\n",
       "      <td>140</td>\n",
       "      <td>NaN</td>\n",
       "      <td>0.025667</td>\n",
       "      <td>0.997535</td>\n",
       "    </tr>\n",
       "    <tr>\n",
       "      <th>57</th>\n",
       "      <td>110</td>\n",
       "      <td>NaN</td>\n",
       "      <td>0.025733</td>\n",
       "      <td>0.997528</td>\n",
       "    </tr>\n",
       "    <tr>\n",
       "      <th>63</th>\n",
       "      <td>170</td>\n",
       "      <td>NaN</td>\n",
       "      <td>0.025933</td>\n",
       "      <td>0.997509</td>\n",
       "    </tr>\n",
       "    <tr>\n",
       "      <th>59</th>\n",
       "      <td>130</td>\n",
       "      <td>NaN</td>\n",
       "      <td>0.025951</td>\n",
       "      <td>0.997508</td>\n",
       "    </tr>\n",
       "    <tr>\n",
       "      <th>61</th>\n",
       "      <td>150</td>\n",
       "      <td>NaN</td>\n",
       "      <td>0.026244</td>\n",
       "      <td>0.997479</td>\n",
       "    </tr>\n",
       "    <tr>\n",
       "      <th>58</th>\n",
       "      <td>120</td>\n",
       "      <td>NaN</td>\n",
       "      <td>0.026675</td>\n",
       "      <td>0.997438</td>\n",
       "    </tr>\n",
       "    <tr>\n",
       "      <th>62</th>\n",
       "      <td>160</td>\n",
       "      <td>NaN</td>\n",
       "      <td>0.026872</td>\n",
       "      <td>0.997419</td>\n",
       "    </tr>\n",
       "    <tr>\n",
       "      <th>56</th>\n",
       "      <td>100</td>\n",
       "      <td>NaN</td>\n",
       "      <td>0.027356</td>\n",
       "      <td>0.997373</td>\n",
       "    </tr>\n",
       "    <tr>\n",
       "      <th>49</th>\n",
       "      <td>110</td>\n",
       "      <td>7.0</td>\n",
       "      <td>0.210921</td>\n",
       "      <td>0.979742</td>\n",
       "    </tr>\n",
       "    <tr>\n",
       "      <th>50</th>\n",
       "      <td>120</td>\n",
       "      <td>7.0</td>\n",
       "      <td>0.212604</td>\n",
       "      <td>0.979581</td>\n",
       "    </tr>\n",
       "  </tbody>\n",
       "</table>\n",
       "</div>"
      ],
      "text/plain": [
       "    n_estimators  max_depth     score        r2\n",
       "60           140        NaN  0.025667  0.997535\n",
       "57           110        NaN  0.025733  0.997528\n",
       "63           170        NaN  0.025933  0.997509\n",
       "59           130        NaN  0.025951  0.997508\n",
       "61           150        NaN  0.026244  0.997479\n",
       "58           120        NaN  0.026675  0.997438\n",
       "62           160        NaN  0.026872  0.997419\n",
       "56           100        NaN  0.027356  0.997373\n",
       "49           110        7.0  0.210921  0.979742\n",
       "50           120        7.0  0.212604  0.979581"
      ]
     },
     "execution_count": 32,
     "metadata": {},
     "output_type": "execute_result"
    }
   ],
   "source": [
    "scores = []\n",
    "max_depths = [1, 2, 3, 4, 5, 6, 7, None]\n",
    "n_estimators = list(range(100,180,10))\n",
    "\n",
    "for d in max_depths:\n",
    "    for n in n_estimators:\n",
    "        rf = RandomForestRegressor(n_estimators=n,max_depth=d, random_state=1, n_jobs=-1)\n",
    "        rf.fit(X_train, y_train)\n",
    "        y_pred = rf.predict(X_val)\n",
    "        scores.append((n, d, mean_squared_error(y_val, y_pred), r2_score(y_val, y_pred)))\n",
    "df_scores = pd.DataFrame(scores, columns=['n_estimators','max_depth', 'score', 'r2'])\n",
    "df_scores.sort_values(by=[\"score\",\"r2\"], ascending=True).head(10)"
   ]
  },
  {
   "cell_type": "code",
   "execution_count": 34,
   "metadata": {},
   "outputs": [
    {
     "data": {
      "text/plain": [
       "<matplotlib.legend.Legend at 0x1ff801ace90>"
      ]
     },
     "execution_count": 34,
     "metadata": {},
     "output_type": "execute_result"
    },
    {
     "data": {
      "image/png": "[encoded data removed]",
      "text/plain": [
       "<Figure size 640x480 with 1 Axes>"
      ]
     },
     "metadata": {},
     "output_type": "display_data"
    }
   ],
   "source": [
    "for d in [5,6,7]:\n",
    "    plt.plot(df_scores[df_scores[\"max_depth\"]==d][\"n_estimators\"],df_scores[df_scores[\"max_depth\"]==d][\"score\"], label=f\"max_depth={d}\")\n",
    "\n",
    "plt.legend()\n",
    "\n",
    "# Best performance starts around n_estimators=110 with a max_depth=7"
   ]
  },
  {
   "cell_type": "code",
   "execution_count": 47,
   "metadata": {},
   "outputs": [],
   "source": [
    "import xgboost as xgb\n",
    "\n",
    "scores = {}\n",
    "\n",
    "def parse_xgboost_output(s):\n",
    "    lines = s.strip().split('\\n')\n",
    "    eval_data = []\n",
    "    for line in lines:\n",
    "        num_iter, train_score, val_score = line.split('\\t')\n",
    "        num_iter = int(num_iter.strip('[]'))\n",
    "        train_score = float(train_score.split(':')[1])\n",
    "        val_score = float(val_score.split(':')[1])\n",
    "        eval_data.append((num_iter, train_score, val_score))\n",
    "\n",
    "    df_eval = pd.DataFrame(eval_data, columns=['tree', 'train_score', 'val_score'])\n",
    "    return df_eval\n",
    "\n",
    "features = dv.get_feature_names_out().tolist()\n",
    "dtrain = xgb.DMatrix(X_train, label=y_train, feature_names=features)\n",
    "dval = xgb.DMatrix(X_val, label=y_val, feature_names=features)\n",
    "watchlist = [(dtrain, 'train'), (dval, 'val')]"
   ]
  },
  {
   "cell_type": "code",
   "execution_count": 40,
   "metadata": {},
   "outputs": [],
   "source": [
    "%%capture output\n",
    "\n",
    "\n",
    "xgb_params = {\n",
    "    'eta': 1.0,\n",
    "    'max_depth': 7,\n",
    "    'min_child_weight': 1,\n",
    "    'objective': 'reg:squarederror',\n",
    "    'eval_metric': 'rmse',\n",
    "    'nthread': 8,\n",
    "    'seed': 1,\n",
    "    'verbosity': 1\n",
    "}\n",
    "model = xgb.train(xgb_params, dtrain, num_boost_round=200, evals=watchlist, verbose_eval=5)\n",
    "key = f'eta={str(xgb_params[\"eta\"])}'\n",
    "scores[key] = parse_xgboost_output(output.stdout)"
   ]
  },
  {
   "cell_type": "code",
   "execution_count": 41,
   "metadata": {},
   "outputs": [
    {
     "data": {
      "text/plain": [
       "<matplotlib.legend.Legend at 0x1ff80256ed0>"
      ]
     },
     "execution_count": 41,
     "metadata": {},
     "output_type": "execute_result"
    },
    {
     "data": {
      "image/png": "[encoded data removed]",
      "text/plain": [
       "<Figure size 640x480 with 1 Axes>"
      ]
     },
     "metadata": {},
     "output_type": "display_data"
    }
   ],
   "source": [
    "for k, df in scores.items():\n",
    "    plt.plot(df.tree, df.val_score, label=k)\n",
    "plt.legend()"
   ]
  },
  {
   "cell_type": "code",
   "execution_count": 45,
   "metadata": {},
   "outputs": [],
   "source": [
    "%%capture output\n",
    "\n",
    "\n",
    "xgb_params = {\n",
    "    'eta': 0.3,\n",
    "    'max_depth': 6,\n",
    "    'min_child_weight': 1,\n",
    "    'objective': 'reg:squarederror',\n",
    "    'eval_metric': 'rmse',\n",
    "    'nthread': 8,\n",
    "    'seed': 1,\n",
    "    'verbosity': 1\n",
    "}\n",
    "model = xgb.train(xgb_params, dtrain, num_boost_round=200, evals=watchlist, verbose_eval=5)\n",
    "key = f'max_depth={str(xgb_params[\"max_depth\"])}'\n",
    "scores[key] = parse_xgboost_output(output.stdout)"
   ]
  },
  {
   "cell_type": "code",
   "execution_count": 46,
   "metadata": {},
   "outputs": [
    {
     "data": {
      "text/plain": [
       "<matplotlib.legend.Legend at 0x1ff80c4ce90>"
      ]
     },
     "execution_count": 46,
     "metadata": {},
     "output_type": "execute_result"
    },
    {
     "data": {
      "image/png": "[encoded data removed]",
      "text/plain": [
       "<Figure size 640x480 with 1 Axes>"
      ]
     },
     "metadata": {},
     "output_type": "display_data"
    }
   ],
   "source": [
    "for k, df in scores.items():\n",
    "    plt.plot(df.tree, df.val_score, label=k)\n",
    "plt.legend()"
   ]
  },
  {
   "cell_type": "code",
   "execution_count": 50,
   "metadata": {},
   "outputs": [],
   "source": [
    "%%capture output\n",
    "\n",
    "\n",
    "xgb_params = {\n",
    "    'eta': 0.3,\n",
    "    'max_depth': 6,\n",
    "    'min_child_weight': 10,\n",
    "    'objective': 'reg:squarederror',\n",
    "    'eval_metric': 'rmse',\n",
    "    'nthread': 8,\n",
    "    'seed': 1,\n",
    "    'verbosity': 1\n",
    "}\n",
    "model = xgb.train(xgb_params, dtrain, num_boost_round=200, evals=watchlist, verbose_eval=5)\n",
    "key = f'min_child_weight={str(xgb_params[\"min_child_weight\"])}'\n",
    "scores[key] = parse_xgboost_output(output.stdout)"
   ]
  },
  {
   "cell_type": "code",
   "execution_count": 51,
   "metadata": {},
   "outputs": [
    {
     "data": {
      "text/plain": [
       "<matplotlib.legend.Legend at 0x1ff80f7ef10>"
      ]
     },
     "execution_count": 51,
     "metadata": {},
     "output_type": "execute_result"
    },
    {
     "data": {
      "image/png": "[encoded data removed]",
      "text/plain": [
       "<Figure size 640x480 with 1 Axes>"
      ]
     },
     "metadata": {},
     "output_type": "display_data"
    }
   ],
   "source": [
    "for k, df in scores.items():\n",
    "    plt.plot(df.tree, df.val_score, label=k)\n",
    "plt.legend()"
   ]
  },
  {
   "cell_type": "markdown",
   "metadata": {},
   "source": [
    "Best models:\n",
    "\n",
    "- RandomForestRegressor with *n_estimators=110* and *max_depth=7*\n",
    "- XGBoost with following settings:\n",
    "  \n",
    "  ```python\n",
    "  xgb_params = {\n",
    "    'eta': 0.3,\n",
    "    'max_depth': 6,\n",
    "    'min_child_weight': 10,\n",
    "    'objective': 'reg:squarederror',\n",
    "    'eval_metric': 'rmse',\n",
    "    'nthread': 8,\n",
    "    'seed': 1,\n",
    "    'verbosity': 1\n",
    "}\n",
    "  ```"
   ]
  },
  {
   "cell_type": "code",
   "execution_count": 52,
   "metadata": {},
   "outputs": [],
   "source": [
    "df_full_train.reset_index(drop=True)\n",
    "\n",
    "y_full_train = df_full_train[\"amount\"].values\n",
    "\n",
    "del df_full_train[\"amount\"]\n",
    "\n",
    "\n",
    "X_full_train = dv.fit_transform(df_full_train[cat + num].to_dict(orient=\"records\"))\n",
    "X_test = dv.transform(df_test[cat + num].to_dict(orient=\"records\"))"
   ]
  },
  {
   "cell_type": "code",
   "execution_count": 53,
   "metadata": {},
   "outputs": [
    {
     "data": {
      "text/plain": [
       "(0.24353116890901794, 0.97723836456664)"
      ]
     },
     "execution_count": 53,
     "metadata": {},
     "output_type": "execute_result"
    }
   ],
   "source": [
    "rf = RandomForestRegressor(n_estimators=110, max_depth=7, random_state=1)\n",
    "rf.fit(X_full_train, y_full_train)\n",
    "y_pred = rf.predict(X_test)\n",
    "\n",
    "mean_squared_error(y_test, y_pred), r2_score(y_test, y_pred)"
   ]
  },
  {
   "cell_type": "code",
   "execution_count": 54,
   "metadata": {},
   "outputs": [
    {
     "data": {
      "text/plain": [
       "(0.11042932519640015, 0.9896787255096227)"
      ]
     },
     "execution_count": 54,
     "metadata": {},
     "output_type": "execute_result"
    }
   ],
   "source": [
    "features = dv.get_feature_names_out().tolist()\n",
    "dfulltrain = xgb.DMatrix(X_full_train, label=y_full_train, feature_names=features)\n",
    "dtest = xgb.DMatrix(X_test, label=y_test, feature_names=features)\n",
    "\n",
    "xgb_params = {\n",
    "    'eta': 0.3,\n",
    "    'max_depth': 6,\n",
    "    'min_child_weight': 10,\n",
    "    'objective': 'reg:squarederror',\n",
    "    'eval_metric': 'rmse',\n",
    "    'nthread': 8,\n",
    "    'seed': 1,\n",
    "    'verbosity': 1\n",
    "}\n",
    "model = xgb.train(xgb_params, dfulltrain, num_boost_round=200)\n",
    "y_pred = model.predict(dtest)\n",
    "\n",
    "mean_squared_error(y_test, y_pred), r2_score(y_test, y_pred)"
   ]
  }
 ],
 "metadata": {
  "kernelspec": {
   "display_name": "venv",
   "language": "python",
   "name": "python3"
  },
  "language_info": {
   "codemirror_mode": {
    "name": "ipython",
    "version": 3
   },
   "file_extension": ".py",
   "mimetype": "text/x-python",
   "name": "python",
   "nbconvert_exporter": "python",
   "pygments_lexer": "ipython3",
   "version": "3.11.6"
  }
 },
 "nbformat": 4,
 "nbformat_minor": 2
}
